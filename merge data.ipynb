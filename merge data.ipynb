{
 "cells": [
  {
   "cell_type": "code",
   "execution_count": 1,
   "metadata": {
    "collapsed": true
   },
   "outputs": [],
   "source": [
    "import pandas as pd\n",
    "import pickle"
   ]
  },
  {
   "cell_type": "code",
   "execution_count": 2,
   "metadata": {
    "collapsed": false
   },
   "outputs": [],
   "source": [
    "with open('dataset/tier1.pickle', 'rb') as handle:\n",
    "    tier_1 = pickle.load(handle)\n",
    "with open('dataset/tier2.pickle', 'rb') as handle:\n",
    "    tier_2 = pickle.load(handle)\n",
    "with open('dataset/tier3.pickle', 'rb') as handle:\n",
    "    tier_3 = pickle.load(handle)\n",
    "with open('dataset/tier1_food.pickle', 'rb') as handle:\n",
    "    tier_1_food = pickle.load(handle)\n",
    "with open('dataset/tier2_food.pickle', 'rb') as handle:\n",
    "    tier_2_food = pickle.load(handle)\n",
    "with open('dataset/media.pickle', 'rb') as handle:\n",
    "    media = pickle.load(handle)\n",
    "with open('dataset/clothing.pickle', 'rb') as handle:\n",
    "    clothing = pickle.load(handle)\n",
    "with open('dataset/gaming.pickle', 'rb') as handle:\n",
    "    gaming = pickle.load(handle)"
   ]
  },
  {
   "cell_type": "code",
   "execution_count": 3,
   "metadata": {
    "collapsed": false
   },
   "outputs": [],
   "source": [
    "df_tier_1 = pd.DataFrame(list(tier_1.items()), columns=['Company', 'Emails'])"
   ]
  },
  {
   "cell_type": "code",
   "execution_count": 4,
   "metadata": {
    "collapsed": true
   },
   "outputs": [],
   "source": [
    "df_tier_2 = pd.DataFrame(list(tier_2.items()), columns=['Company', 'Emails'])\n",
    "df_tier_3 = pd.DataFrame(list(tier_3.items()), columns=['Company', 'Emails'])\n",
    "df_tier_1_food = pd.DataFrame(list(tier_1_food.items()), columns=['Company', 'Emails'])\n",
    "df_tier_2_food = pd.DataFrame(list(tier_2_food.items()), columns=['Company', 'Emails'])"
   ]
  },
  {
   "cell_type": "code",
   "execution_count": 5,
   "metadata": {
    "collapsed": true
   },
   "outputs": [],
   "source": [
    "df_media = pd.DataFrame(list(media.items()), columns=['Company', 'Emails'])\n",
    "df_clothing = pd.DataFrame(list(clothing.items()), columns=['Company', 'Emails'])\n",
    "df_gaming = pd.DataFrame(list(gaming.items()), columns=['Company', 'Emails'])"
   ]
  },
  {
   "cell_type": "code",
   "execution_count": 6,
   "metadata": {
    "collapsed": true
   },
   "outputs": [],
   "source": [
    "df_list = [df_clothing, df_gaming, df_media, df_tier_1, df_tier_1_food, df_tier_2,df_tier_2_food,df_tier_3]"
   ]
  },
  {
   "cell_type": "code",
   "execution_count": 7,
   "metadata": {
    "collapsed": false
   },
   "outputs": [
    {
     "data": {
      "text/plain": [
       "Company    object\n",
       "Emails     object\n",
       "dtype: object"
      ]
     },
     "execution_count": 7,
     "metadata": {},
     "output_type": "execute_result"
    }
   ],
   "source": [
    "df_tier_1.dtypes"
   ]
  },
  {
   "cell_type": "code",
   "execution_count": 8,
   "metadata": {
    "collapsed": false
   },
   "outputs": [
    {
     "data": {
      "text/plain": [
       "['service@makemytrip.com',\n",
       " 'nternationalbookings@makemytrip.com',\n",
       " '-hotelservice@makemytrip.com',\n",
       " 'busservice@makemytrip.com',\n",
       " 'railservice@makemytrip.com']"
      ]
     },
     "execution_count": 8,
     "metadata": {},
     "output_type": "execute_result"
    }
   ],
   "source": [
    "df_tier_2.iloc[3][\"Emails\"]"
   ]
  },
  {
   "cell_type": "code",
   "execution_count": 9,
   "metadata": {
    "collapsed": false
   },
   "outputs": [],
   "source": [
    "names = [\"clothing\",\"gaming\",\"media\",\"tier_1\",\"tier_1_food\",\"tier_2\",\"tier_2_food\",\"tier_3\"]"
   ]
  },
  {
   "cell_type": "code",
   "execution_count": 10,
   "metadata": {
    "collapsed": false
   },
   "outputs": [],
   "source": [
    "def convert_to_set_and_string(x):\n",
    "    x = list(set(x))\n",
    "    return \",\".join(x)"
   ]
  },
  {
   "cell_type": "code",
   "execution_count": 12,
   "metadata": {
    "collapsed": false
   },
   "outputs": [],
   "source": [
    "for df in df_list:\n",
    "    df[\"Emails\"] = df.Emails.map(convert_to_set_and_string)"
   ]
  },
  {
   "cell_type": "code",
   "execution_count": 13,
   "metadata": {
    "collapsed": false
   },
   "outputs": [],
   "source": [
    "#df_tier_3"
   ]
  },
  {
   "cell_type": "code",
   "execution_count": 14,
   "metadata": {
    "collapsed": false
   },
   "outputs": [],
   "source": [
    "for df, name in zip(df_list, names):\n",
    "    df.to_csv(\"./emails/\"+str(name) + \".csv\", index=False)"
   ]
  },
  {
   "cell_type": "code",
   "execution_count": null,
   "metadata": {
    "collapsed": true
   },
   "outputs": [],
   "source": []
  },
  {
   "cell_type": "code",
   "execution_count": null,
   "metadata": {
    "collapsed": false
   },
   "outputs": [],
   "source": [
    "convert_array_to_string(df_tier_2.iloc[3][\"Emails\"])"
   ]
  },
  {
   "cell_type": "code",
   "execution_count": null,
   "metadata": {
    "collapsed": true
   },
   "outputs": [],
   "source": [
    "x = [\"123\", \"21321\", \"asdasd\"] "
   ]
  },
  {
   "cell_type": "code",
   "execution_count": null,
   "metadata": {
    "collapsed": false
   },
   "outputs": [],
   "source": [
    "\",\".join(x)"
   ]
  },
  {
   "cell_type": "code",
   "execution_count": null,
   "metadata": {
    "collapsed": true
   },
   "outputs": [],
   "source": []
  }
 ],
 "metadata": {
  "anaconda-cloud": {},
  "kernelspec": {
   "display_name": "Python [conda root]",
   "language": "python",
   "name": "conda-root-py"
  },
  "language_info": {
   "codemirror_mode": {
    "name": "ipython",
    "version": 3
   },
   "file_extension": ".py",
   "mimetype": "text/x-python",
   "name": "python",
   "nbconvert_exporter": "python",
   "pygments_lexer": "ipython3",
   "version": "3.5.2"
  }
 },
 "nbformat": 4,
 "nbformat_minor": 1
}
