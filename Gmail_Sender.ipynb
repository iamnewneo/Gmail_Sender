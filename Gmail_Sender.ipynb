{
 "cells": [
  {
   "cell_type": "code",
   "execution_count": 3,
   "metadata": {
    "collapsed": true
   },
   "outputs": [],
   "source": [
    "import smtplib\n",
    "from email.mime.multipart import MIMEMultipart\n",
    "from email.mime.text import MIMEText\n",
    "from email.header import Header\n",
    "from email.utils import formataddr\n",
    "from email import encoders\n",
    "from email.mime.base import MIMEBase\n",
    "from os.path import basename\n",
    "from email.mime.application import MIMEApplication\n",
    "import mimetypes"
   ]
  },
  {
   "cell_type": "code",
   "execution_count": 8,
   "metadata": {
    "collapsed": false
   },
   "outputs": [
    {
     "data": {
      "text/plain": [
       "(221, b'2.0.0 closing connection m3sm23797766pgn.40 - gsmtp')"
      ]
     },
     "execution_count": 8,
     "metadata": {},
     "output_type": "execute_result"
    }
   ],
   "source": [
    "sender = \"abc@gmail.com\"\n",
    "reciever = \"abc@gmail.com\"\n",
    "author = formataddr((str(Header(u'Kunal', 'utf-8')), sender))\n",
    "emailfrom = author\n",
    "emailto = reciever\n",
    "fileToSend = \"sample.txt\"\n",
    "username = sender\n",
    "password = \"*******************\"\n",
    "\n",
    "msg = MIMEMultipart()\n",
    "msg[\"From\"] = emailfrom\n",
    "msg[\"To\"] = emailto\n",
    "msg[\"Subject\"] = \"Testing Subject\"\n",
    "#msg.preamble = \"help I cannot send an attachment to save my life\"\n",
    "body = \"Checking attachment of the email\"\n",
    "#msg.attach(MIMEText(body, 'plain'))\n",
    "msg.attach(MIMEText(body))\n",
    "\n",
    "ctype, encoding = mimetypes.guess_type(fileToSend)\n",
    "if ctype is None or encoding is not None:\n",
    "    ctype = \"application/octet-stream\"\n",
    "\n",
    "maintype, subtype = ctype.split(\"/\", 1)\n",
    "fp = open(fileToSend, \"rb\")\n",
    "attachment = MIMEBase(maintype, subtype)\n",
    "attachment.set_payload(fp.read())\n",
    "fp.close()\n",
    "encoders.encode_base64(attachment)\n",
    "attachment.add_header(\"Content-Disposition\", \"attachment\", filename=fileToSend)\n",
    "msg.attach(attachment)\n",
    "\n",
    "server = smtplib.SMTP(\"smtp.gmail.com:587\")\n",
    "server.starttls()\n",
    "server.login(username,password)\n",
    "server.sendmail(emailfrom, emailto, msg.as_string())\n",
    "server.quit()"
   ]
  },
  {
   "cell_type": "code",
   "execution_count": null,
   "metadata": {
    "collapsed": true
   },
   "outputs": [],
   "source": []
  }
 ],
 "metadata": {
  "anaconda-cloud": {},
  "kernelspec": {
   "display_name": "Python [conda root]",
   "language": "python",
   "name": "conda-root-py"
  },
  "language_info": {
   "codemirror_mode": {
    "name": "ipython",
    "version": 3
   },
   "file_extension": ".py",
   "mimetype": "text/x-python",
   "name": "python",
   "nbconvert_exporter": "python",
   "pygments_lexer": "ipython3",
   "version": "3.5.3"
  }
 },
 "nbformat": 4,
 "nbformat_minor": 1
}
